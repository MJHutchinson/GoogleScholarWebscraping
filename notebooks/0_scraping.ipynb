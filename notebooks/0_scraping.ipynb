{
 "cells": [
  {
   "cell_type": "code",
   "execution_count": 35,
   "metadata": {},
   "outputs": [],
   "source": [
    "import requests\n",
    "from bs4 import BeautifulSoup\n",
    "import pprint"
   ]
  },
  {
   "cell_type": "code",
   "execution_count": 36,
   "metadata": {},
   "outputs": [],
   "source": [
    "p = pprint.PrettyPrinter(indent=4)"
   ]
  },
  {
   "cell_type": "code",
   "execution_count": 37,
   "metadata": {},
   "outputs": [],
   "source": [
    "scholar_href = 'https://scholar.google.com'\n",
    "root_paper = '/scholar?hl=en&as_sdt=2005&sciodt=0,5&cites=14542735200645169180&scipsc='"
   ]
  },
  {
   "cell_type": "code",
   "execution_count": 38,
   "metadata": {},
   "outputs": [],
   "source": [
    "db = {}"
   ]
  },
  {
   "cell_type": "code",
   "execution_count": 39,
   "metadata": {},
   "outputs": [],
   "source": [
    "wuinn = {\n",
    "    'title': 'Weight uncertainty in neural networks',\n",
    "    'pdf_link': 'https://arxiv.org/pdf/1505.05424.pdf',\n",
    "    'page_link': 'https://arxiv.org/abs/1505.05424',\n",
    "    'authors': [],\n",
    "    'short_abstract': 'We introduce a new, efficient, principled and backpropagation-compatible algorithm for learning a probability distribution on the weights of a neural network, called Bayes by Backprop. It regularises the weights by minimising a compression cost, known as the',\n",
    "    'cited_by_link': '/scholar?cites=14542735200645169180&as_sdt=2005&sciodt=0,5&hl=en',\n",
    "    'related_articles_link': '/scholar?q=related:HEAGQZ0s0skJ:scholar.google.com/&scioq=&hl=en&as_sdt=0,5',\n",
    "    'cited_by': [],\n",
    "    'cites': [],\n",
    "    'tree_level': 0,\n",
    "    'forward_pass_done': False\n",
    "}"
   ]
  },
  {
   "cell_type": "code",
   "execution_count": 41,
   "metadata": {},
   "outputs": [],
   "source": [
    "db['Weight uncertainty in neural networks'] = wuinn"
   ]
  },
  {
   "cell_type": "code",
   "execution_count": 42,
   "metadata": {},
   "outputs": [],
   "source": [
    "citation_class = 'gs_r gs_or gs_scl'\n",
    "title_class = 'gs_rt'\n",
    "author_class = 'gs_a'\n",
    "abstract_class = 'gs_rs'\n",
    "meta_info_class = 'gs_fl'"
   ]
  },
  {
   "cell_type": "code",
   "execution_count": 43,
   "metadata": {},
   "outputs": [],
   "source": [
    "def process_paper(paper):\n",
    "    children = list(paper.children)\n",
    "    \n",
    "    if len(children) == 1:\n",
    "        pdf_link=\"\"\n",
    "        body = children[0]\n",
    "    else:\n",
    "        pdf_link = children[0].find('a')['href']\n",
    "        body = children[1]\n",
    "        \n",
    "    if len(list(body.children))<4: return None\n",
    "        \n",
    "    page_link = body.find(class_=title_class).find('a')['href']\n",
    "    title = body.find(class_=title_class).find('a').get_text()\n",
    "    author_list = body.find(class_=author_class).find_all('a')\n",
    "    if len(author_list) == 0:\n",
    "        authors = []\n",
    "    else:\n",
    "        authors = [(a.get_text(), a['href'].split('=')[1].split('&')[0]) for a in author_list]\n",
    "    short_abstract = body.find(class_=abstract_class).get_text()\n",
    "    meta = list(body.find(class_=meta_info_class).find_all('a'))\n",
    "    if (len(meta) == 8) | (len(meta) == 7):\n",
    "        cited_by_link = meta[2]['href']\n",
    "        related_articles_link = meta[3]['href']\n",
    "    else:\n",
    "        cited_by_link = ''\n",
    "        related_articles_link = ''\n",
    "        \n",
    "    \n",
    "    return {\n",
    "        'title': title,\n",
    "        'pdf_link': pdf_link,\n",
    "        'page_link': page_link,\n",
    "        'authors': authors,\n",
    "        'short_abstract': short_abstract,\n",
    "        'cited_by_link': cited_by_link,\n",
    "        'related_articles_link': related_articles_link,\n",
    "        'cited_by': [],\n",
    "        'cites': []\n",
    "    }"
   ]
  },
  {
   "cell_type": "code",
   "execution_count": 44,
   "metadata": {},
   "outputs": [],
   "source": [
    "def get_citations(paper):\n",
    "    start = 0\n",
    "    title = paper['title']\n",
    "    citation_list = []\n",
    "    citation_url = paper['cited_by_link']\n",
    "    tree_level = paper['tree_level']\n",
    "\n",
    "    while True:\n",
    "        url = f'{scholar_href}{citation_url}&start={start}'\n",
    "        page = requests.get(url)\n",
    "        soup = BeautifulSoup(page.content, 'html.parser')\n",
    "\n",
    "        citations = soup.find_all('div', class_=citation_class)\n",
    "        if(len(citations)) == 0: break\n",
    "\n",
    "        papers = [process_paper(p) for p in citations if p is not None]\n",
    "        papers_strip = [p for p in papers if p is not None]\n",
    "        for p in papers_strip:\n",
    "            p['level'] = tree_level+1\n",
    "\n",
    "        start += len(papers)\n",
    "        citation_list.extend(papers_strip)\n",
    "        print(f'\\rCollected {start} papers for {title}', end='')\n",
    "        \n",
    "    print(f'\\rFinished with {title}')\n",
    "    return citation_list\n",
    "        "
   ]
  },
  {
   "cell_type": "code",
   "execution_count": 45,
   "metadata": {},
   "outputs": [
    {
     "name": "stdout",
     "output_type": "stream",
     "text": [
      "Finished with Weight uncertainty in neural networks\n"
     ]
    }
   ],
   "source": [
    "citations_of_paper = get_citations(wuinn)"
   ]
  },
  {
   "cell_type": "code",
   "execution_count": 5,
   "metadata": {},
   "outputs": [],
   "source": []
  },
  {
   "cell_type": "code",
   "execution_count": null,
   "metadata": {},
   "outputs": [],
   "source": []
  }
 ],
 "metadata": {
  "kernelspec": {
   "display_name": "Python 3",
   "language": "python",
   "name": "python3"
  },
  "language_info": {
   "codemirror_mode": {
    "name": "ipython",
    "version": 3
   },
   "file_extension": ".py",
   "mimetype": "text/x-python",
   "name": "python",
   "nbconvert_exporter": "python",
   "pygments_lexer": "ipython3",
   "version": "3.6.6"
  }
 },
 "nbformat": 4,
 "nbformat_minor": 2
}
